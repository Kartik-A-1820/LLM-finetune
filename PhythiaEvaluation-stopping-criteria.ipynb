{
 "cells": [
  {
   "cell_type": "code",
   "execution_count": null,
   "id": "ba852077-e788-4ba5-86a9-002001b643ad",
   "metadata": {},
   "outputs": [],
   "source": [
    "import json\n",
    "from transformers import AutoTokenizer, AutoModelForCausalLM, BitsAndBytesConfig\n",
    "import torch\n",
    "from tqdm import tqdm\n",
    "import evaluate\n",
    "from transformers import StoppingCriteria, StoppingCriteriaList\n",
    "from peft import PeftModel, LoraConfig, get_peft_model, prepare_model_for_kbit_training\n",
    "\n",
    "import warnings\n",
    "warnings.filterwarnings(\"ignore\")"
   ]
  },
  {
   "cell_type": "code",
   "execution_count": 2,
   "id": "1f1f81c7-abab-44f5-aa49-64d8554dfb8a",
   "metadata": {},
   "outputs": [],
   "source": [
    "model_name = \"EleutherAI/pythia-410m\""
   ]
  },
  {
   "cell_type": "code",
   "execution_count": 10,
   "id": "aceaf162-f70e-405b-9894-7cda714516d5",
   "metadata": {},
   "outputs": [],
   "source": [
    "class StopOnKeywords(StoppingCriteria):\n",
    "    def __init__(self, tokenizer, stop_phrases, input_len):\n",
    "        super().__init__()\n",
    "        self.tokenizer = tokenizer\n",
    "        self.stop_phrases = stop_phrases\n",
    "        self.input_len = input_len\n",
    "\n",
    "    def __call__(self, input_ids: torch.LongTensor, scores: torch.FloatTensor, **kwargs) -> bool:\n",
    "        generated_text = self.tokenizer.decode(input_ids[0][self.input_len:], skip_special_tokens=True)\n",
    "        for stop_phrase in self.stop_phrases:\n",
    "            if stop_phrase in generated_text:\n",
    "                return True\n",
    "        return False\n",
    "\n",
    "stop_phrases = [\"### Response:\", \"\\n\\n\"]"
   ]
  },
  {
   "cell_type": "code",
   "execution_count": 4,
   "id": "f67c0a08-7ceb-457f-bef9-7e5b7d60c3b4",
   "metadata": {},
   "outputs": [],
   "source": [
    "jsonl_path = \"data/datascience_1000_multistep.jsonl\"\n",
    "data = []\n",
    "with open(jsonl_path, \"r\", encoding=\"utf-8\") as f:\n",
    "    for line in f:\n",
    "        data.append(json.loads(line))\n",
    "\n",
    "# Use a small sample for quick evaluation\n",
    "data = data[:100]"
   ]
  },
  {
   "cell_type": "markdown",
   "id": "45f8f999-7e2d-49a8-8178-7980296246e2",
   "metadata": {},
   "source": [
    "# Base Model"
   ]
  },
  {
   "cell_type": "code",
   "execution_count": 7,
   "id": "e42fa34d-f235-4a0a-bbe6-6231440f0fc2",
   "metadata": {},
   "outputs": [],
   "source": [
    "#Load model\n",
    "bnb_config = BitsAndBytesConfig(\n",
    "    load_in_4bit=True,\n",
    "    bnb_4bit_quant_type=\"nf4\",\n",
    "    bnb_4bit_use_double_quant=True,\n",
    "    bnb_4bit_compute_dtype=torch.float16,\n",
    ")\n",
    "\n",
    "base_model = AutoModelForCausalLM.from_pretrained(\n",
    "    model_name,\n",
    "    quantization_config=bnb_config,\n",
    "    device_map=\"auto\"\n",
    ")\n",
    "\n",
    "base_model = prepare_model_for_kbit_training(base_model)\n",
    "\n",
    "tokenizer = AutoTokenizer.from_pretrained(model_name, use_fast=True)\n",
    "tokenizer.pad_token = tokenizer.eos_token"
   ]
  },
  {
   "cell_type": "code",
   "execution_count": 11,
   "id": "af539af1-6e5c-4fab-9a3a-8252ccbb6788",
   "metadata": {},
   "outputs": [
    {
     "name": "stderr",
     "output_type": "stream",
     "text": [
      "  0%|                                                                                          | 0/100 [00:00<?, ?it/s]D:\\Users\\KARTIK\\.conda\\envs\\torch\\lib\\site-packages\\transformers\\integrations\\sdpa_attention.py:66: UserWarning: 1Torch was not compiled with flash attention. (Triggered internally at C:\\cb\\pytorch_1000000000000\\work\\aten\\src\\ATen\\native\\transformers\\cuda\\sdp_utils.cpp:263.)\n",
      "  attn_output = torch.nn.functional.scaled_dot_product_attention(\n",
      "100%|████████████████████████████████████████████████████████████████████████████████| 100/100 [08:33<00:00,  5.13s/it]\n"
     ]
    }
   ],
   "source": [
    "predictions = []\n",
    "references = []\n",
    "\n",
    "for sample in tqdm(data):\n",
    "    instruction = sample[\"instruction\"]\n",
    "    prompt = f\"### Instruction:\\n{instruction}\\n\\n### Response:\\n\"\n",
    "    reference = sample[\"output\"]\n",
    "\n",
    "    inputs = tokenizer(prompt, return_tensors=\"pt\").to(base_model.device)\n",
    "    input_len = inputs[\"input_ids\"].shape[1]\n",
    "    stopping_criteria = StoppingCriteriaList([\n",
    "    StopOnKeywords(tokenizer, stop_phrases, input_len)\n",
    "    ])\n",
    "    with torch.no_grad():\n",
    "        outputs = base_model.generate(**inputs, max_new_tokens=192, eos_token_id=tokenizer.eos_token_id, pad_token_id=tokenizer.eos_token_id, stopping_criteria=stopping_criteria)\n",
    "    response = tokenizer.decode(outputs[0], skip_special_tokens=True)\n",
    "\n",
    "    # Optional: Strip input prompt from decoded output if it's included\n",
    "    response = response.replace(prompt, \"\").strip()\n",
    "\n",
    "    predictions.append(response)\n",
    "    references.append(reference)"
   ]
  },
  {
   "cell_type": "code",
   "execution_count": 13,
   "id": "fad362a5-31b5-4261-9313-f280d75aa383",
   "metadata": {},
   "outputs": [],
   "source": [
    "rouge = evaluate.load(\"rouge\")\n",
    "rouge_results = rouge.compute(predictions=predictions, references=references)"
   ]
  },
  {
   "cell_type": "code",
   "execution_count": 14,
   "id": "306212a2-aa0f-46a1-9317-330a59e4c346",
   "metadata": {},
   "outputs": [
    {
     "name": "stdout",
     "output_type": "stream",
     "text": [
      "\n",
      "=== ROUGE Scores ===\n",
      "rouge1: 0.0384\n",
      "rouge2: 0.0097\n",
      "rougeL: 0.0345\n",
      "rougeLsum: 0.0363\n"
     ]
    }
   ],
   "source": [
    "print(\"\\n=== ROUGE Scores ===\")\n",
    "for k, v in rouge_results.items():\n",
    "    print(f\"{k}: {v:.4f}\")"
   ]
  },
  {
   "cell_type": "markdown",
   "id": "effff124-616b-4f1e-b702-3052be240a26",
   "metadata": {},
   "source": [
    "# FINE TUNED MODEL"
   ]
  },
  {
   "cell_type": "code",
   "execution_count": 21,
   "id": "540196d6-c0c1-429a-a891-30bed8f2dc70",
   "metadata": {},
   "outputs": [
    {
     "name": "stderr",
     "output_type": "stream",
     "text": [
      "D:\\Users\\KARTIK\\.conda\\envs\\torch\\lib\\site-packages\\accelerate\\utils\\modeling.py:1582: UserWarning: Current model requires 32 bytes of buffer for offloaded layers, which seems does not fit any GPU's remaining memory. If you are experiencing a OOM later, please consider using offload_buffers=True.\n",
      "  warnings.warn(\n"
     ]
    },
    {
     "data": {
      "text/plain": [
       "GPTNeoXForCausalLM(\n",
       "  (gpt_neox): GPTNeoXModel(\n",
       "    (embed_in): Embedding(50304, 1024)\n",
       "    (emb_dropout): Dropout(p=0.0, inplace=False)\n",
       "    (layers): ModuleList(\n",
       "      (0-23): 24 x GPTNeoXLayer(\n",
       "        (input_layernorm): LayerNorm((1024,), eps=1e-05, elementwise_affine=True)\n",
       "        (post_attention_layernorm): LayerNorm((1024,), eps=1e-05, elementwise_affine=True)\n",
       "        (post_attention_dropout): Dropout(p=0.0, inplace=False)\n",
       "        (post_mlp_dropout): Dropout(p=0.0, inplace=False)\n",
       "        (attention): GPTNeoXAttention(\n",
       "          (query_key_value): lora.Linear(\n",
       "            (base_layer): Linear(in_features=1024, out_features=3072, bias=True)\n",
       "            (lora_dropout): ModuleDict(\n",
       "              (default): Dropout(p=0.05, inplace=False)\n",
       "            )\n",
       "            (lora_A): ModuleDict(\n",
       "              (default): Linear(in_features=1024, out_features=8, bias=False)\n",
       "            )\n",
       "            (lora_B): ModuleDict(\n",
       "              (default): Linear(in_features=8, out_features=3072, bias=False)\n",
       "            )\n",
       "            (lora_embedding_A): ParameterDict()\n",
       "            (lora_embedding_B): ParameterDict()\n",
       "            (lora_magnitude_vector): ModuleDict()\n",
       "          )\n",
       "          (dense): Linear(in_features=1024, out_features=1024, bias=True)\n",
       "        )\n",
       "        (mlp): GPTNeoXMLP(\n",
       "          (dense_h_to_4h): Linear(in_features=1024, out_features=4096, bias=True)\n",
       "          (dense_4h_to_h): Linear(in_features=4096, out_features=1024, bias=True)\n",
       "          (act): GELUActivation()\n",
       "        )\n",
       "      )\n",
       "    )\n",
       "    (final_layer_norm): LayerNorm((1024,), eps=1e-05, elementwise_affine=True)\n",
       "    (rotary_emb): GPTNeoXRotaryEmbedding()\n",
       "  )\n",
       "  (embed_out): Linear(in_features=1024, out_features=50304, bias=False)\n",
       ")"
      ]
     },
     "execution_count": 21,
     "metadata": {},
     "output_type": "execute_result"
    }
   ],
   "source": [
    "model_path = \"pythia-lora-final/\"\n",
    "\n",
    "tokenizer = AutoTokenizer.from_pretrained(model_path)\n",
    "model = AutoModelForCausalLM.from_pretrained(model_path, device_map=\"auto\")"
   ]
  },
  {
   "cell_type": "code",
   "execution_count": 22,
   "id": "2e4eec8d-38d6-4f7b-a27e-4dbb0600d753",
   "metadata": {},
   "outputs": [
    {
     "name": "stderr",
     "output_type": "stream",
     "text": [
      "100%|████████████████████████████████████████████████████████████████████████████████| 100/100 [21:22<00:00, 12.82s/it]\n"
     ]
    }
   ],
   "source": [
    "model.eval()\n",
    "predictions = []\n",
    "references = []\n",
    "\n",
    "for sample in tqdm(data):\n",
    "    instruction = sample[\"instruction\"]\n",
    "    prompt = f\"### Instruction:\\n{instruction}\\n\\n### Response:\\n\"\n",
    "    reference = sample[\"output\"]\n",
    "\n",
    "    inputs = tokenizer(prompt, return_tensors=\"pt\").to(model.device)\n",
    "    input_len = inputs[\"input_ids\"].shape[1]\n",
    "    stopping_criteria = StoppingCriteriaList([\n",
    "    StopOnKeywords(tokenizer, stop_phrases, input_len)\n",
    "    ])\n",
    "    with torch.no_grad():\n",
    "        outputs = model.generate(**inputs, max_new_tokens=192, eos_token_id=tokenizer.eos_token_id, pad_token_id=tokenizer.eos_token_id, stopping_criteria=stopping_criteria)\n",
    "    response = tokenizer.decode(outputs[0], skip_special_tokens=True)\n",
    "\n",
    "    # Optional: Strip input prompt from decoded output if it's included\n",
    "    response = response.replace(prompt, \"\").strip()\n",
    "\n",
    "    predictions.append(response)\n",
    "    references.append(reference)"
   ]
  },
  {
   "cell_type": "code",
   "execution_count": 23,
   "id": "78f78647-8265-4b0d-ba0a-6c55e42a5889",
   "metadata": {},
   "outputs": [],
   "source": [
    "rouge = evaluate.load(\"rouge\")\n",
    "rouge_results = rouge.compute(predictions=predictions, references=references)"
   ]
  },
  {
   "cell_type": "code",
   "execution_count": 24,
   "id": "7229b014-5d59-4e9b-8591-59875f9e2d63",
   "metadata": {},
   "outputs": [
    {
     "name": "stdout",
     "output_type": "stream",
     "text": [
      "\n",
      "=== ROUGE Scores ===\n",
      "rouge1: 0.7734\n",
      "rouge2: 0.6597\n",
      "rougeL: 0.7448\n",
      "rougeLsum: 0.7697\n"
     ]
    }
   ],
   "source": [
    "print(\"\\n=== ROUGE Scores ===\")\n",
    "for k, v in rouge_results.items():\n",
    "    print(f\"{k}: {v:.4f}\")"
   ]
  },
  {
   "cell_type": "markdown",
   "id": "1e78d582-a5d9-415b-95e3-914f64c2d08c",
   "metadata": {},
   "source": [
    "# Fine Tuned V2"
   ]
  },
  {
   "cell_type": "code",
   "execution_count": 25,
   "id": "77433af5-3f22-49ac-8cef-11cb83be2654",
   "metadata": {},
   "outputs": [
    {
     "name": "stderr",
     "output_type": "stream",
     "text": [
      "100%|████████████████████████████████████████████████████████████████████████████████| 100/100 [20:46<00:00, 12.46s/it]\n"
     ]
    }
   ],
   "source": [
    "model_path = \"pythia-lora-V2/\"\n",
    "\n",
    "tokenizer = AutoTokenizer.from_pretrained(model_path)\n",
    "model = AutoModelForCausalLM.from_pretrained(model_path, device_map=\"auto\")\n",
    "model.eval()\n",
    "\n",
    "predictions = []\n",
    "references = []\n",
    "\n",
    "for sample in tqdm(data):\n",
    "    instruction = sample[\"instruction\"]\n",
    "    prompt = f\"### Instruction:\\n{instruction}\\n\\n### Response:\\n\"\n",
    "    reference = sample[\"output\"]\n",
    "\n",
    "    inputs = tokenizer(prompt, return_tensors=\"pt\").to(model.device)\n",
    "    input_len = inputs[\"input_ids\"].shape[1]\n",
    "    stopping_criteria = StoppingCriteriaList([\n",
    "    StopOnKeywords(tokenizer, stop_phrases, input_len)\n",
    "    ])\n",
    "    with torch.no_grad():\n",
    "        outputs = model.generate(**inputs, max_new_tokens=192, eos_token_id=tokenizer.eos_token_id, pad_token_id=tokenizer.eos_token_id, stopping_criteria=stopping_criteria)\n",
    "    response = tokenizer.decode(outputs[0], skip_special_tokens=True)\n",
    "\n",
    "    # Optional: Strip input prompt from decoded output if it's included\n",
    "    response = response.replace(prompt, \"\").strip()\n",
    "\n",
    "    predictions.append(response)\n",
    "    references.append(reference)"
   ]
  },
  {
   "cell_type": "code",
   "execution_count": 26,
   "id": "5ba405a5-85a4-4351-af89-8fc11b993f43",
   "metadata": {},
   "outputs": [],
   "source": [
    "rouge = evaluate.load(\"rouge\")\n",
    "rouge_results = rouge.compute(predictions=predictions, references=references)"
   ]
  },
  {
   "cell_type": "code",
   "execution_count": 27,
   "id": "5e774e1d-fca4-4701-b14f-77b98033eedf",
   "metadata": {},
   "outputs": [
    {
     "name": "stdout",
     "output_type": "stream",
     "text": [
      "\n",
      "=== ROUGE Scores ===\n",
      "rouge1: 0.8757\n",
      "rouge2: 0.8170\n",
      "rougeL: 0.8608\n",
      "rougeLsum: 0.8749\n"
     ]
    }
   ],
   "source": [
    "print(\"\\n=== ROUGE Scores ===\")\n",
    "for k, v in rouge_results.items():\n",
    "    print(f\"{k}: {v:.4f}\")"
   ]
  }
 ],
 "metadata": {
  "kernelspec": {
   "display_name": "Python (torch_kernel)",
   "language": "python",
   "name": "torch"
  },
  "language_info": {
   "codemirror_mode": {
    "name": "ipython",
    "version": 3
   },
   "file_extension": ".py",
   "mimetype": "text/x-python",
   "name": "python",
   "nbconvert_exporter": "python",
   "pygments_lexer": "ipython3",
   "version": "3.9.18"
  },
  "widgets": {
   "application/vnd.jupyter.widget-state+json": {
    "state": {},
    "version_major": 2,
    "version_minor": 0
   }
  }
 },
 "nbformat": 4,
 "nbformat_minor": 5
}
