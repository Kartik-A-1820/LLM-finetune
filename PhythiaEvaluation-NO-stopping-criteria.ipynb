{
 "cells": [
  {
   "cell_type": "code",
   "execution_count": 1,
   "id": "ba852077-e788-4ba5-86a9-002001b643ad",
   "metadata": {},
   "outputs": [],
   "source": [
    "import json\n",
    "from transformers import AutoTokenizer, AutoModelForCausalLM, BitsAndBytesConfig\n",
    "import torch\n",
    "from tqdm import tqdm\n",
    "import evaluate\n",
    "from transformers import StoppingCriteria, StoppingCriteriaList\n",
    "from peft import PeftModel, LoraConfig, get_peft_model, prepare_model_for_kbit_training\n",
    "\n",
    "import warnings\n",
    "warnings.filterwarnings(\"ignore\")"
   ]
  },
  {
   "cell_type": "code",
   "execution_count": 2,
   "id": "1f1f81c7-abab-44f5-aa49-64d8554dfb8a",
   "metadata": {},
   "outputs": [],
   "source": [
    "model_name = \"EleutherAI/pythia-410m\""
   ]
  },
  {
   "cell_type": "code",
   "execution_count": 3,
   "id": "f67c0a08-7ceb-457f-bef9-7e5b7d60c3b4",
   "metadata": {},
   "outputs": [],
   "source": [
    "jsonl_path = \"data/datascience_1000_multistep.jsonl\"\n",
    "data = []\n",
    "with open(jsonl_path, \"r\", encoding=\"utf-8\") as f:\n",
    "    for line in f:\n",
    "        data.append(json.loads(line))\n",
    "\n",
    "# Use a small sample for quick evaluation\n",
    "data = data[:100]"
   ]
  },
  {
   "cell_type": "markdown",
   "id": "45f8f999-7e2d-49a8-8178-7980296246e2",
   "metadata": {},
   "source": [
    "# Base Model"
   ]
  },
  {
   "cell_type": "code",
   "execution_count": 4,
   "id": "e42fa34d-f235-4a0a-bbe6-6231440f0fc2",
   "metadata": {},
   "outputs": [],
   "source": [
    "#Load model\n",
    "bnb_config = BitsAndBytesConfig(\n",
    "    load_in_4bit=True,\n",
    "    bnb_4bit_quant_type=\"nf4\",\n",
    "    bnb_4bit_use_double_quant=True,\n",
    "    bnb_4bit_compute_dtype=torch.float16,\n",
    ")\n",
    "\n",
    "base_model = AutoModelForCausalLM.from_pretrained(\n",
    "    model_name,\n",
    "    quantization_config=bnb_config,\n",
    "    device_map=\"auto\"\n",
    ")\n",
    "\n",
    "base_model = prepare_model_for_kbit_training(base_model)\n",
    "\n",
    "tokenizer = AutoTokenizer.from_pretrained(model_name, use_fast=True)\n",
    "tokenizer.pad_token = tokenizer.eos_token"
   ]
  },
  {
   "cell_type": "code",
   "execution_count": 5,
   "id": "af539af1-6e5c-4fab-9a3a-8252ccbb6788",
   "metadata": {},
   "outputs": [
    {
     "name": "stderr",
     "output_type": "stream",
     "text": [
      "100%|████████████████████████████████████████████████████████████████████████████████| 100/100 [13:24<00:00,  8.04s/it]\n"
     ]
    }
   ],
   "source": [
    "predictions = []\n",
    "references = []\n",
    "\n",
    "for sample in tqdm(data):\n",
    "    instruction = sample[\"instruction\"]\n",
    "    prompt = f\"### Instruction:\\n{instruction}\\n\\n### Response:\\n\"\n",
    "    reference = sample[\"output\"]\n",
    "\n",
    "    inputs = tokenizer(prompt, return_tensors=\"pt\").to(base_model.device)\n",
    "    input_len = inputs[\"input_ids\"].shape[1]\n",
    "    with torch.no_grad():\n",
    "        outputs = base_model.generate(**inputs, max_new_tokens=192, eos_token_id=tokenizer.eos_token_id, pad_token_id=tokenizer.eos_token_id)\n",
    "    response = tokenizer.decode(outputs[0], skip_special_tokens=True)\n",
    "\n",
    "    # Optional: Strip input prompt from decoded output if it's included\n",
    "    response = response.replace(prompt, \"\").strip()\n",
    "\n",
    "    predictions.append(response)\n",
    "    references.append(reference)"
   ]
  },
  {
   "cell_type": "code",
   "execution_count": 6,
   "id": "fad362a5-31b5-4261-9313-f280d75aa383",
   "metadata": {},
   "outputs": [],
   "source": [
    "rouge = evaluate.load(\"rouge\")\n",
    "rouge_results = rouge.compute(predictions=predictions, references=references)"
   ]
  },
  {
   "cell_type": "code",
   "execution_count": 7,
   "id": "306212a2-aa0f-46a1-9317-330a59e4c346",
   "metadata": {},
   "outputs": [
    {
     "name": "stdout",
     "output_type": "stream",
     "text": [
      "\n",
      "=== ROUGE Scores ===\n",
      "rouge1: 0.0407\n",
      "rouge2: 0.0103\n",
      "rougeL: 0.0366\n",
      "rougeLsum: 0.0390\n"
     ]
    }
   ],
   "source": [
    "print(\"\\n=== ROUGE Scores ===\")\n",
    "for k, v in rouge_results.items():\n",
    "    print(f\"{k}: {v:.4f}\")"
   ]
  },
  {
   "cell_type": "markdown",
   "id": "effff124-616b-4f1e-b702-3052be240a26",
   "metadata": {},
   "source": [
    "# FINE TUNED MODEL"
   ]
  },
  {
   "cell_type": "code",
   "execution_count": 9,
   "id": "540196d6-c0c1-429a-a891-30bed8f2dc70",
   "metadata": {},
   "outputs": [],
   "source": [
    "model_path = \"pythia-lora-final/\"\n",
    "\n",
    "tokenizer = AutoTokenizer.from_pretrained(model_path)\n",
    "model = AutoModelForCausalLM.from_pretrained(model_path, device_map=\"cuda\")"
   ]
  },
  {
   "cell_type": "code",
   "execution_count": 10,
   "id": "2e4eec8d-38d6-4f7b-a27e-4dbb0600d753",
   "metadata": {},
   "outputs": [
    {
     "name": "stderr",
     "output_type": "stream",
     "text": [
      "100%|████████████████████████████████████████████████████████████████████████████████| 100/100 [11:46<00:00,  7.06s/it]\n"
     ]
    }
   ],
   "source": [
    "model.eval()\n",
    "predictions = []\n",
    "references = []\n",
    "\n",
    "for sample in tqdm(data):\n",
    "    instruction = sample[\"instruction\"]\n",
    "    prompt = f\"### Instruction:\\n{instruction}\\n\\n### Response:\\n\"\n",
    "    reference = sample[\"output\"]\n",
    "\n",
    "    inputs = tokenizer(prompt, return_tensors=\"pt\").to(model.device)\n",
    "    input_len = inputs[\"input_ids\"].shape[1]\n",
    "\n",
    "    with torch.no_grad():\n",
    "        outputs = model.generate(**inputs, max_new_tokens=192, eos_token_id=tokenizer.eos_token_id, pad_token_id=tokenizer.eos_token_id)\n",
    "    response = tokenizer.decode(outputs[0], skip_special_tokens=True)\n",
    "\n",
    "    # Optional: Strip input prompt from decoded output if it's included\n",
    "    response = response.replace(prompt, \"\").strip()\n",
    "\n",
    "    predictions.append(response)\n",
    "    references.append(reference)"
   ]
  },
  {
   "cell_type": "code",
   "execution_count": 11,
   "id": "78f78647-8265-4b0d-ba0a-6c55e42a5889",
   "metadata": {},
   "outputs": [],
   "source": [
    "rouge = evaluate.load(\"rouge\")\n",
    "rouge_results = rouge.compute(predictions=predictions, references=references)"
   ]
  },
  {
   "cell_type": "code",
   "execution_count": 12,
   "id": "7229b014-5d59-4e9b-8591-59875f9e2d63",
   "metadata": {},
   "outputs": [
    {
     "name": "stdout",
     "output_type": "stream",
     "text": [
      "\n",
      "=== ROUGE Scores ===\n",
      "rouge1: 0.6084\n",
      "rouge2: 0.5067\n",
      "rougeL: 0.5852\n",
      "rougeLsum: 0.6073\n"
     ]
    }
   ],
   "source": [
    "print(\"\\n=== ROUGE Scores ===\")\n",
    "for k, v in rouge_results.items():\n",
    "    print(f\"{k}: {v:.4f}\")"
   ]
  },
  {
   "cell_type": "markdown",
   "id": "1e78d582-a5d9-415b-95e3-914f64c2d08c",
   "metadata": {},
   "source": [
    "# Fine Tuned V2"
   ]
  },
  {
   "cell_type": "code",
   "execution_count": 13,
   "id": "77433af5-3f22-49ac-8cef-11cb83be2654",
   "metadata": {},
   "outputs": [
    {
     "name": "stderr",
     "output_type": "stream",
     "text": [
      "100%|████████████████████████████████████████████████████████████████████████████████| 100/100 [33:43<00:00, 20.24s/it]\n"
     ]
    }
   ],
   "source": [
    "model_path = \"pythia-lora-V2/\"\n",
    "\n",
    "tokenizer = AutoTokenizer.from_pretrained(model_path)\n",
    "model = AutoModelForCausalLM.from_pretrained(model_path, device_map=\"cuda\")\n",
    "\n",
    "model.eval()\n",
    "predictions = []\n",
    "references = []\n",
    "\n",
    "for sample in tqdm(data):\n",
    "    instruction = sample[\"instruction\"]\n",
    "    prompt = f\"### Instruction:\\n{instruction}\\n\\n### Response:\\n\"\n",
    "    reference = sample[\"output\"]\n",
    "\n",
    "    inputs = tokenizer(prompt, return_tensors=\"pt\").to(model.device)\n",
    "    input_len = inputs[\"input_ids\"].shape[1]\n",
    "\n",
    "    with torch.no_grad():\n",
    "        outputs = model.generate(**inputs, max_new_tokens=192, eos_token_id=tokenizer.eos_token_id, pad_token_id=tokenizer.eos_token_id)\n",
    "    response = tokenizer.decode(outputs[0], skip_special_tokens=True)\n",
    "\n",
    "    # Optional: Strip input prompt from decoded output if it's included\n",
    "    response = response.replace(prompt, \"\").strip()\n",
    "\n",
    "    predictions.append(response)\n",
    "    references.append(reference)"
   ]
  },
  {
   "cell_type": "code",
   "execution_count": 14,
   "id": "5ba405a5-85a4-4351-af89-8fc11b993f43",
   "metadata": {},
   "outputs": [],
   "source": [
    "rouge = evaluate.load(\"rouge\")\n",
    "rouge_results = rouge.compute(predictions=predictions, references=references)"
   ]
  },
  {
   "cell_type": "code",
   "execution_count": 15,
   "id": "5e774e1d-fca4-4701-b14f-77b98033eedf",
   "metadata": {},
   "outputs": [
    {
     "name": "stdout",
     "output_type": "stream",
     "text": [
      "\n",
      "=== ROUGE Scores ===\n",
      "rouge1: 0.8763\n",
      "rouge2: 0.8164\n",
      "rougeL: 0.8627\n",
      "rougeLsum: 0.8734\n"
     ]
    }
   ],
   "source": [
    "print(\"\\n=== ROUGE Scores ===\")\n",
    "for k, v in rouge_results.items():\n",
    "    print(f\"{k}: {v:.4f}\")"
   ]
  },
  {
   "cell_type": "code",
   "execution_count": 33,
   "id": "05edf2fe-634c-4e0e-82d0-3ea42d325d55",
   "metadata": {},
   "outputs": [
    {
     "data": {
      "text/plain": [
       "\"### Instruction:\\nLoad time series CSV 'data.csv', set 'timestamp' as index, resample weekly average of 'revenue', detect points > mean+2*std and annotate plot.\\n\\n### Response:\\n\""
      ]
     },
     "execution_count": 33,
     "metadata": {},
     "output_type": "execute_result"
    }
   ],
   "source": [
    "instruction = data[28][\"instruction\"]\n",
    "prompt = f\"### Instruction:\\n{instruction}\\n\\n### Response:\\n\"\n",
    "inputs = tokenizer(prompt, return_tensors=\"pt\").to(model.device)\n",
    "prompt"
   ]
  },
  {
   "cell_type": "code",
   "execution_count": 34,
   "id": "930f25a9-b381-447c-be1d-d15c94a100c8",
   "metadata": {},
   "outputs": [
    {
     "name": "stdout",
     "output_type": "stream",
     "text": [
      "import pandas as pd\n",
      "import matplotlib.pyplot as plt\n",
      "df2 = pd.read_csv('data.csv', parse_dates=['timestamp'], index_col='timestamp')\n",
      "weekly = df2['revenue'].resample('W').mean()\n",
      "mean = weekly.mean(); std = weekly.std()\n",
      "signal = weekly[weekly > mean + 2*std]\n",
      "plt.plot(weekly.index, weekly)\n",
      "plt.scatter(signal.index, signal, color='red')\n",
      "plt.title('Weekly revenue with Anomalies')\n",
      "plt.show()\n"
     ]
    }
   ],
   "source": [
    "print(data[28][\"output\"])"
   ]
  },
  {
   "cell_type": "code",
   "execution_count": 35,
   "id": "75d9f3e8-bb7f-406b-a0e1-07a3745d4631",
   "metadata": {},
   "outputs": [
    {
     "name": "stdout",
     "output_type": "stream",
     "text": [
      "### Instruction:\n",
      "Load time series CSV 'data.csv', set 'timestamp' as index, resample weekly average of 'revenue', detect points > mean+2*std and annotate plot.\n",
      "\n",
      "### Response:\n",
      "\n",
      "```\n",
      "\n",
      "```\n",
      "\n",
      "```\n",
      "\n",
      "```\n",
      "\n",
      "```\n",
      "\n",
      "```\n",
      "\n",
      "```\n",
      "\n",
      "```\n",
      "\n",
      "```\n",
      "\n",
      "```\n",
      "\n",
      "```\n",
      "\n",
      "```\n",
      "\n",
      "```\n",
      "\n",
      "```\n",
      "\n",
      "```\n",
      "\n",
      "```\n",
      "\n",
      "```\n",
      "\n",
      "```\n",
      "\n",
      "```\n",
      "\n",
      "```\n",
      "\n",
      "```\n",
      "\n",
      "```\n",
      "\n",
      "```\n",
      "\n",
      "```\n",
      "\n",
      "```\n",
      "\n",
      "```\n",
      "\n",
      "```\n",
      "\n",
      "```\n",
      "\n",
      "```\n",
      "\n",
      "```\n",
      "\n",
      "```\n",
      "\n",
      "```\n",
      "\n",
      "```\n",
      "\n",
      "```\n",
      "\n",
      "```\n",
      "\n",
      "```\n",
      "\n",
      "```\n",
      "\n",
      "```\n",
      "\n",
      "```\n",
      "\n",
      "```\n",
      "\n",
      "```\n",
      "\n",
      "```\n",
      "\n",
      "```\n",
      "\n",
      "```\n",
      "\n",
      "```\n",
      "\n",
      "```\n",
      "\n",
      "```\n",
      "\n",
      "```\n",
      "\n",
      "```\n",
      "\n",
      "```\n",
      "\n",
      "```\n",
      "\n",
      "```\n",
      "\n",
      "```\n",
      "\n",
      "```\n",
      "\n",
      "```\n",
      "\n",
      "```\n",
      "\n",
      "```\n",
      "\n",
      "```\n",
      "\n",
      "```\n",
      "\n",
      "```\n",
      "\n",
      "```\n",
      "\n",
      "```\n",
      "\n",
      "```\n",
      "\n",
      "```\n",
      "\n"
     ]
    }
   ],
   "source": [
    "outputs = base_model.generate(**inputs, max_new_tokens=192, eos_token_id=tokenizer.eos_token_id, pad_token_id=tokenizer.eos_token_id)\n",
    "response = tokenizer.decode(outputs[0], skip_special_tokens=True)\n",
    "print(response)"
   ]
  },
  {
   "cell_type": "code",
   "execution_count": 36,
   "id": "497a5ee3-2d80-42a5-9e56-1f16bfed6930",
   "metadata": {},
   "outputs": [
    {
     "name": "stdout",
     "output_type": "stream",
     "text": [
      "### Instruction:\n",
      "Load time series CSV 'data.csv', set 'timestamp' as index, resample weekly average of 'revenue', detect points > mean+2*std and annotate plot.\n",
      "\n",
      "### Response:\n",
      "import pandas as pd\n",
      "import matplotlib.pyplot as plt\n",
      "data_clean = pd.read_csv('data.csv', parse_dates=['timestamp'], index_col='timestamp')\n",
      "weekly = data_clean['revenue'].resample('W').mean()\n",
      "mean = weekly.mean(); std = weekly.std()\n",
      "signal = weekly[weekly > mean + 2*std]\n",
      "plt.plot(weekly.index, weekly)\n",
      "plt.scatter(signal.index, signal, color='red')\n",
      "plt.title('Weekly revenue with Anomalies')\n",
      "plt.show()\n"
     ]
    }
   ],
   "source": [
    "outputs = model.generate(**inputs, max_new_tokens=192, eos_token_id=tokenizer.eos_token_id, pad_token_id=tokenizer.eos_token_id)\n",
    "response = tokenizer.decode(outputs[0], skip_special_tokens=True)\n",
    "print(response)"
   ]
  },
  {
   "cell_type": "code",
   "execution_count": null,
   "id": "395c5dba-c114-4a83-8b6e-f2d07136b4ab",
   "metadata": {},
   "outputs": [],
   "source": []
  }
 ],
 "metadata": {
  "kernelspec": {
   "display_name": "Python (torch_kernel)",
   "language": "python",
   "name": "torch"
  },
  "language_info": {
   "codemirror_mode": {
    "name": "ipython",
    "version": 3
   },
   "file_extension": ".py",
   "mimetype": "text/x-python",
   "name": "python",
   "nbconvert_exporter": "python",
   "pygments_lexer": "ipython3",
   "version": "3.9.18"
  },
  "widgets": {
   "application/vnd.jupyter.widget-state+json": {
    "state": {},
    "version_major": 2,
    "version_minor": 0
   }
  }
 },
 "nbformat": 4,
 "nbformat_minor": 5
}
