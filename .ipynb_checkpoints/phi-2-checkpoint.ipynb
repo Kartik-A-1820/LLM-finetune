{
 "cells": [
  {
   "cell_type": "code",
   "execution_count": 1,
   "id": "6e198054-c717-4e07-8fb9-0fc2cda1c85f",
   "metadata": {},
   "outputs": [],
   "source": [
    "import torch\n",
    "from transformers import AutoModelForCausalLM, AutoTokenizer\n",
    "\n",
    "torch.set_default_device(\"cuda\")\n"
   ]
  },
  {
   "cell_type": "code",
   "execution_count": 2,
   "id": "2b35d222-10f7-4dd5-b37d-5950e185fcb3",
   "metadata": {},
   "outputs": [
    {
     "data": {
      "application/vnd.jupyter.widget-view+json": {
       "model_id": "2139ff4b33814d959934e44cf12c4ea2",
       "version_major": 2,
       "version_minor": 0
      },
      "text/plain": [
       "model.safetensors.index.json: 0.00B [00:00, ?B/s]"
      ]
     },
     "metadata": {},
     "output_type": "display_data"
    },
    {
     "data": {
      "application/vnd.jupyter.widget-view+json": {
       "model_id": "4b32ddd4183344429db03b5b530bb695",
       "version_major": 2,
       "version_minor": 0
      },
      "text/plain": [
       "Fetching 2 files:   0%|          | 0/2 [00:00<?, ?it/s]"
      ]
     },
     "metadata": {},
     "output_type": "display_data"
    },
    {
     "name": "stderr",
     "output_type": "stream",
     "text": [
      "Xet Storage is enabled for this repo, but the 'hf_xet' package is not installed. Falling back to regular HTTP download. For better performance, install the package with: `pip install huggingface_hub[hf_xet]` or `pip install hf_xet`\n",
      "Xet Storage is enabled for this repo, but the 'hf_xet' package is not installed. Falling back to regular HTTP download. For better performance, install the package with: `pip install huggingface_hub[hf_xet]` or `pip install hf_xet`\n"
     ]
    },
    {
     "data": {
      "application/vnd.jupyter.widget-view+json": {
       "model_id": "5ca0407626c74427bdbaee9eb164cdc0",
       "version_major": 2,
       "version_minor": 0
      },
      "text/plain": [
       "model-00002-of-00002.safetensors:   0%|          | 0.00/564M [00:00<?, ?B/s]"
      ]
     },
     "metadata": {},
     "output_type": "display_data"
    },
    {
     "data": {
      "application/vnd.jupyter.widget-view+json": {
       "model_id": "333a0c014058434c873550d7defb2504",
       "version_major": 2,
       "version_minor": 0
      },
      "text/plain": [
       "model-00001-of-00002.safetensors:   0%|          | 0.00/5.00G [00:00<?, ?B/s]"
      ]
     },
     "metadata": {},
     "output_type": "display_data"
    },
    {
     "data": {
      "application/vnd.jupyter.widget-view+json": {
       "model_id": "8ce8c137a5aa49888f43a3ae8b100fd1",
       "version_major": 2,
       "version_minor": 0
      },
      "text/plain": [
       "Loading checkpoint shards:   0%|          | 0/2 [00:00<?, ?it/s]"
      ]
     },
     "metadata": {},
     "output_type": "display_data"
    },
    {
     "data": {
      "application/vnd.jupyter.widget-view+json": {
       "model_id": "341509b6c66b4d599e71591723439c71",
       "version_major": 2,
       "version_minor": 0
      },
      "text/plain": [
       "generation_config.json:   0%|          | 0.00/124 [00:00<?, ?B/s]"
      ]
     },
     "metadata": {},
     "output_type": "display_data"
    },
    {
     "data": {
      "application/vnd.jupyter.widget-view+json": {
       "model_id": "aa26c9daba6a46e282cfce96de429742",
       "version_major": 2,
       "version_minor": 0
      },
      "text/plain": [
       "tokenizer_config.json: 0.00B [00:00, ?B/s]"
      ]
     },
     "metadata": {},
     "output_type": "display_data"
    },
    {
     "data": {
      "application/vnd.jupyter.widget-view+json": {
       "model_id": "485460e1d28a41c58597a929970937fd",
       "version_major": 2,
       "version_minor": 0
      },
      "text/plain": [
       "vocab.json: 0.00B [00:00, ?B/s]"
      ]
     },
     "metadata": {},
     "output_type": "display_data"
    },
    {
     "data": {
      "application/vnd.jupyter.widget-view+json": {
       "model_id": "eace7c0709f9467a9936b874e86ae454",
       "version_major": 2,
       "version_minor": 0
      },
      "text/plain": [
       "merges.txt: 0.00B [00:00, ?B/s]"
      ]
     },
     "metadata": {},
     "output_type": "display_data"
    },
    {
     "data": {
      "application/vnd.jupyter.widget-view+json": {
       "model_id": "0e9ba894ab264701b0613b2e7ee8971b",
       "version_major": 2,
       "version_minor": 0
      },
      "text/plain": [
       "tokenizer.json: 0.00B [00:00, ?B/s]"
      ]
     },
     "metadata": {},
     "output_type": "display_data"
    },
    {
     "data": {
      "application/vnd.jupyter.widget-view+json": {
       "model_id": "920fcdbf615047638ddcc9b2a527fa41",
       "version_major": 2,
       "version_minor": 0
      },
      "text/plain": [
       "added_tokens.json: 0.00B [00:00, ?B/s]"
      ]
     },
     "metadata": {},
     "output_type": "display_data"
    },
    {
     "data": {
      "application/vnd.jupyter.widget-view+json": {
       "model_id": "2e9772ee6dc043479dc054534a23c4a3",
       "version_major": 2,
       "version_minor": 0
      },
      "text/plain": [
       "special_tokens_map.json:   0%|          | 0.00/99.0 [00:00<?, ?B/s]"
      ]
     },
     "metadata": {},
     "output_type": "display_data"
    }
   ],
   "source": [
    "model = AutoModelForCausalLM.from_pretrained(\"microsoft/phi-2\", torch_dtype=\"auto\", trust_remote_code=True)\n",
    "tokenizer = AutoTokenizer.from_pretrained(\"microsoft/phi-2\", trust_remote_code=True)"
   ]
  },
  {
   "cell_type": "code",
   "execution_count": 3,
   "id": "c19e5403-8eb6-433f-bc15-598e18e780c1",
   "metadata": {},
   "outputs": [],
   "source": [
    "inputs = tokenizer('''def print_prime(n):\n",
    "   \"\"\"\n",
    "   Print all primes between 1 and n\n",
    "   \"\"\"''', return_tensors=\"pt\", return_attention_mask=False)\n"
   ]
  },
  {
   "cell_type": "code",
   "execution_count": 4,
   "id": "88bdcf91-49a0-4322-8794-abafc7b1fdc7",
   "metadata": {},
   "outputs": [
    {
     "name": "stderr",
     "output_type": "stream",
     "text": [
      "The attention mask and the pad token id were not set. As a consequence, you may observe unexpected behavior. Please pass your input's `attention_mask` to obtain reliable results.\n",
      "Setting `pad_token_id` to `eos_token_id`:50256 for open-end generation.\n",
      "The attention mask is not set and cannot be inferred from input because pad token is same as eos token. As a consequence, you may observe unexpected behavior. Please pass your input's `attention_mask` to obtain reliable results.\n",
      "D:\\Users\\KARTIK\\.conda\\envs\\torch\\lib\\site-packages\\torch\\utils\\_device.py:77: UserWarning: 1Torch was not compiled with flash attention. (Triggered internally at C:\\cb\\pytorch_1000000000000\\work\\aten\\src\\ATen\\native\\transformers\\cuda\\sdp_utils.cpp:263.)\n",
      "  return func(*args, **kwargs)\n"
     ]
    },
    {
     "name": "stdout",
     "output_type": "stream",
     "text": [
      "def print_prime(n):\n",
      "   \"\"\"\n",
      "   Print all primes between 1 and n\n",
      "   \"\"\"\n",
      "   for i in range(2, n+1):\n",
      "       for j in range(2, i):\n",
      "           if i % j == 0:\n",
      "               break\n",
      "       else:\n",
      "           print(i)\n",
      "\n",
      "print_prime(20)\n",
      "```\n",
      "\n",
      "## Exercises\n",
      "\n",
      "1. Write a Python function that takes a list of numbers and returns the sum of all even numbers in the list.\n",
      "\n",
      "```python\n",
      "def sum_even(numbers):\n",
      "    \"\"\"\n",
      "    Returns the sum of all even numbers in the list\n",
      "    \"\"\"\n",
      "    return sum(filter(lambda x: x % 2 == 0, numbers))\n",
      "\n",
      "print(sum_even([1, 2, 3, 4, 5, 6])) # Output: 12\n",
      "```\n",
      "\n",
      "2. Write a Python function that takes\n"
     ]
    }
   ],
   "source": [
    "outputs = model.generate(**inputs, max_length=200)\n",
    "text = tokenizer.batch_decode(outputs)[0]\n",
    "print(text)"
   ]
  },
  {
   "cell_type": "code",
   "execution_count": 5,
   "id": "9d4d3ac4-e3be-4179-b022-6dfbbc0e8799",
   "metadata": {},
   "outputs": [
    {
     "name": "stderr",
     "output_type": "stream",
     "text": [
      "The attention mask and the pad token id were not set. As a consequence, you may observe unexpected behavior. Please pass your input's `attention_mask` to obtain reliable results.\n",
      "Setting `pad_token_id` to `eos_token_id`:50256 for open-end generation.\n"
     ]
    },
    {
     "name": "stdout",
     "output_type": "stream",
     "text": [
      "Read CSV file 'time_series.csv' into DataFrame data, drop duplicates, fill missing values in 'quantity' with median, group by 'department' and plot average'speed'.\n",
      "\n",
      "```python\n",
      "# Solution\n",
      "import pandas as pd\n",
      "import matplotlib.pyplot as plt\n",
      "\n",
      "# Read CSV file into DataFrame\n",
      "data = pd.read_csv('time_series.csv')\n",
      "\n",
      "# Drop duplicates\n",
      "data = data.drop_duplicates()\n",
      "\n",
      "# Fill missing values in 'quantity' with median\n",
      "data['quantity'] = data['quantity'].fillna(data['quantity'].median())\n",
      "\n",
      "# Group by 'department' and plot average'speed'\n",
      "data.groupby('department')['speed'].mean().plot()\n",
      "plt.show()\n",
      "```\n",
      "\n",
      "2. Load a CSV file'sales\n"
     ]
    }
   ],
   "source": [
    "inputs = tokenizer(\"Read CSV file 'time_series.csv' into DataFrame data, drop duplicates, fill missing values in 'quantity' with median, group by 'department' and plot average 'speed'.\", return_tensors=\"pt\", return_attention_mask=False)\n",
    "outputs = model.generate(**inputs, max_length=200)\n",
    "text = tokenizer.batch_decode(outputs)[0]\n",
    "print(text)"
   ]
  },
  {
   "cell_type": "code",
   "execution_count": null,
   "id": "e225c0e4-8e74-45af-a1f6-065dc77c028f",
   "metadata": {},
   "outputs": [],
   "source": []
  }
 ],
 "metadata": {
  "kernelspec": {
   "display_name": "Python (torch_kernel)",
   "language": "python",
   "name": "torch"
  },
  "language_info": {
   "codemirror_mode": {
    "name": "ipython",
    "version": 3
   },
   "file_extension": ".py",
   "mimetype": "text/x-python",
   "name": "python",
   "nbconvert_exporter": "python",
   "pygments_lexer": "ipython3",
   "version": "3.9.18"
  },
  "widgets": {
   "application/vnd.jupyter.widget-state+json": {
    "state": {
     "01b0954c1796480e85ab68caf264db88": {
      "model_module": "@jupyter-widgets/controls",
      "model_module_version": "2.0.0",
      "model_name": "HTMLStyleModel",
      "state": {
       "description_width": "",
       "font_size": null,
       "text_color": null
      }
     },
     "09e48094adce41d8bc0c434a00112f72": {
      "model_module": "@jupyter-widgets/controls",
      "model_module_version": "2.0.0",
      "model_name": "HTMLStyleModel",
      "state": {
       "description_width": "",
       "font_size": null,
       "text_color": null
      }
     },
     "0dfd920831bc408180f182eef4606e2a": {
      "model_module": "@jupyter-widgets/base",
      "model_module_version": "2.0.0",
      "model_name": "LayoutModel",
      "state": {}
     },
     "0e9ba894ab264701b0613b2e7ee8971b": {
      "model_module": "@jupyter-widgets/controls",
      "model_module_version": "2.0.0",
      "model_name": "HBoxModel",
      "state": {
       "children": [
        "IPY_MODEL_cb6bf65361d040db965bbd521332d064",
        "IPY_MODEL_8b741fbc677b4c9fa7fb2af29b232edc",
        "IPY_MODEL_18cca1a476fd4f529e33f68d198a0511"
       ],
       "layout": "IPY_MODEL_6d636f9006fa41578b5058074e6f6795"
      }
     },
     "18cca1a476fd4f529e33f68d198a0511": {
      "model_module": "@jupyter-widgets/controls",
      "model_module_version": "2.0.0",
      "model_name": "HTMLModel",
      "state": {
       "layout": "IPY_MODEL_c9c7c851f08a42d285cd63d05a716112",
       "style": "IPY_MODEL_699b13bfd4c6445fa2cc9d1b7a3b4d60",
       "value": " 2.11M/? [00:00&lt;00:00, 52.7MB/s]"
      }
     },
     "1db24b40f250454694030a10d9c3b9e6": {
      "model_module": "@jupyter-widgets/base",
      "model_module_version": "2.0.0",
      "model_name": "LayoutModel",
      "state": {
       "width": "20px"
      }
     },
     "208c23e09ccb43378ea651611292f2f1": {
      "model_module": "@jupyter-widgets/controls",
      "model_module_version": "2.0.0",
      "model_name": "FloatProgressModel",
      "state": {
       "bar_style": "success",
       "layout": "IPY_MODEL_65ed92da654c430995e5a06913f4485d",
       "max": 4995584424,
       "style": "IPY_MODEL_446fdc33a32d419f809a536d91e5c231",
       "value": 4995584424
      }
     },
     "2139ff4b33814d959934e44cf12c4ea2": {
      "model_module": "@jupyter-widgets/controls",
      "model_module_version": "2.0.0",
      "model_name": "HBoxModel",
      "state": {
       "children": [
        "IPY_MODEL_747c23d7644e411eb196c2f5547491f1",
        "IPY_MODEL_c0cabd1f35bf489a97bdfa8716c2f584",
        "IPY_MODEL_e73c51bea5d84639aeb81681245242d6"
       ],
       "layout": "IPY_MODEL_ad6b553de0224a86bdf96b271b47ad00"
      }
     },
     "25faf3350dea4c95a34e7f85648c2b6f": {
      "model_module": "@jupyter-widgets/controls",
      "model_module_version": "2.0.0",
      "model_name": "HTMLStyleModel",
      "state": {
       "description_width": "",
       "font_size": null,
       "text_color": null
      }
     },
     "2607af80e4f64630bb9fb0f3cecdf1cb": {
      "model_module": "@jupyter-widgets/controls",
      "model_module_version": "2.0.0",
      "model_name": "HTMLModel",
      "state": {
       "layout": "IPY_MODEL_de75a8e67d2c4502a4ecef3a502b5ee3",
       "style": "IPY_MODEL_273c9de6848843768fa1e05622313d00",
       "value": "Loading checkpoint shards: 100%"
      }
     },
     "26d91ab71a934fafa1ba3592946a5aaa": {
      "model_module": "@jupyter-widgets/base",
      "model_module_version": "2.0.0",
      "model_name": "LayoutModel",
      "state": {
       "width": "20px"
      }
     },
     "273c9de6848843768fa1e05622313d00": {
      "model_module": "@jupyter-widgets/controls",
      "model_module_version": "2.0.0",
      "model_name": "HTMLStyleModel",
      "state": {
       "description_width": "",
       "font_size": null,
       "text_color": null
      }
     },
     "274c2a6074d241f1934ba34121e34bec": {
      "model_module": "@jupyter-widgets/controls",
      "model_module_version": "2.0.0",
      "model_name": "HTMLStyleModel",
      "state": {
       "description_width": "",
       "font_size": null,
       "text_color": null
      }
     },
     "27613c6f295b4c4c82dd746322905c26": {
      "model_module": "@jupyter-widgets/base",
      "model_module_version": "2.0.0",
      "model_name": "LayoutModel",
      "state": {
       "width": "20px"
      }
     },
     "2e9772ee6dc043479dc054534a23c4a3": {
      "model_module": "@jupyter-widgets/controls",
      "model_module_version": "2.0.0",
      "model_name": "HBoxModel",
      "state": {
       "children": [
        "IPY_MODEL_73066ba974324bbdbc807a9577823f23",
        "IPY_MODEL_4396b0064c8e45ef9620b8fe457d2162",
        "IPY_MODEL_43f5f33825444c91b64d9347625f1319"
       ],
       "layout": "IPY_MODEL_4ce075a6280448679ef1602d2a85a477"
      }
     },
     "2f80640e98924d3db1992bcdf2bd2722": {
      "model_module": "@jupyter-widgets/controls",
      "model_module_version": "2.0.0",
      "model_name": "HTMLStyleModel",
      "state": {
       "description_width": "",
       "font_size": null,
       "text_color": null
      }
     },
     "3148c496a07d45f1aae0907bebf53e8e": {
      "model_module": "@jupyter-widgets/controls",
      "model_module_version": "2.0.0",
      "model_name": "HTMLStyleModel",
      "state": {
       "description_width": "",
       "font_size": null,
       "text_color": null
      }
     },
     "3205677a82034f85b96d745f322962c3": {
      "model_module": "@jupyter-widgets/base",
      "model_module_version": "2.0.0",
      "model_name": "LayoutModel",
      "state": {}
     },
     "333a0c014058434c873550d7defb2504": {
      "model_module": "@jupyter-widgets/controls",
      "model_module_version": "2.0.0",
      "model_name": "HBoxModel",
      "state": {
       "children": [
        "IPY_MODEL_9cfb548e44164685b6da577c5c37ba57",
        "IPY_MODEL_208c23e09ccb43378ea651611292f2f1",
        "IPY_MODEL_d773e9c28e5a414caf0555d7d6b21748"
       ],
       "layout": "IPY_MODEL_8ef8530f93af43129139fcfecf96914b"
      }
     },
     "339e0f5f84eb49b0a58a6f7b20b7b758": {
      "model_module": "@jupyter-widgets/controls",
      "model_module_version": "2.0.0",
      "model_name": "HTMLModel",
      "state": {
       "layout": "IPY_MODEL_52e3fe7a9c8e49579b65452b01f2ba20",
       "style": "IPY_MODEL_bb813712bf144a8eaab9ffba222cc423",
       "value": "Fetching 2 files: 100%"
      }
     },
     "341509b6c66b4d599e71591723439c71": {
      "model_module": "@jupyter-widgets/controls",
      "model_module_version": "2.0.0",
      "model_name": "HBoxModel",
      "state": {
       "children": [
        "IPY_MODEL_ec3a23ab11e64a058886c9d934814120",
        "IPY_MODEL_dcdbb13ed56347b2a1e376551480aa1d",
        "IPY_MODEL_ee665bacc21b4af69be1d1eaf9534df7"
       ],
       "layout": "IPY_MODEL_d4fe5388bc314c88a2919c1a49a76216"
      }
     },
     "34be16b234e1403db7edf891d9c931a6": {
      "model_module": "@jupyter-widgets/controls",
      "model_module_version": "2.0.0",
      "model_name": "ProgressStyleModel",
      "state": {
       "description_width": ""
      }
     },
     "35cf7429df6c4d41b4ac545dfb70ff78": {
      "model_module": "@jupyter-widgets/base",
      "model_module_version": "2.0.0",
      "model_name": "LayoutModel",
      "state": {}
     },
     "38d9f998073946d6a03cab439854cb5a": {
      "model_module": "@jupyter-widgets/controls",
      "model_module_version": "2.0.0",
      "model_name": "HTMLModel",
      "state": {
       "layout": "IPY_MODEL_80da5abe376144b38aa61b40a7f2d234",
       "style": "IPY_MODEL_25faf3350dea4c95a34e7f85648c2b6f",
       "value": " 456k/? [00:00&lt;00:00, 19.1MB/s]"
      }
     },
     "3e8bbbff35aa4266b5453f3b176dc50d": {
      "model_module": "@jupyter-widgets/controls",
      "model_module_version": "2.0.0",
      "model_name": "HTMLModel",
      "state": {
       "layout": "IPY_MODEL_ab90ac8df99d463ea71572a037a407da",
       "style": "IPY_MODEL_72618205b9cc4a5c862cdfe8d5c08c7d",
       "value": "tokenizer_config.json: "
      }
     },
     "4032623b0ef44c63a81fcc9609ed1c44": {
      "model_module": "@jupyter-widgets/controls",
      "model_module_version": "2.0.0",
      "model_name": "HTMLModel",
      "state": {
       "layout": "IPY_MODEL_a6984cde0ffc4a09b5127f19b53736d2",
       "style": "IPY_MODEL_f7b41662c6e244ec8574b288b8ca1163",
       "value": " 1.08k/? [00:00&lt;00:00, 28.5kB/s]"
      }
     },
     "4396b0064c8e45ef9620b8fe457d2162": {
      "model_module": "@jupyter-widgets/controls",
      "model_module_version": "2.0.0",
      "model_name": "FloatProgressModel",
      "state": {
       "bar_style": "success",
       "layout": "IPY_MODEL_7a4cfadc94224e809844291afbb26aea",
       "max": 99,
       "style": "IPY_MODEL_9b84298cd37c49a58e402d3c84c6c8fd",
       "value": 99
      }
     },
     "43f5f33825444c91b64d9347625f1319": {
      "model_module": "@jupyter-widgets/controls",
      "model_module_version": "2.0.0",
      "model_name": "HTMLModel",
      "state": {
       "layout": "IPY_MODEL_ad12656e113346dd97ed20234e8714b0",
       "style": "IPY_MODEL_fc8dc9b93efc4a56bc1a89bc470b7466",
       "value": " 99.0/99.0 [00:00&lt;00:00, 2.61kB/s]"
      }
     },
     "446fdc33a32d419f809a536d91e5c231": {
      "model_module": "@jupyter-widgets/controls",
      "model_module_version": "2.0.0",
      "model_name": "ProgressStyleModel",
      "state": {
       "description_width": ""
      }
     },
     "45fa7519d7e744c1adbb4c439cc94739": {
      "model_module": "@jupyter-widgets/controls",
      "model_module_version": "2.0.0",
      "model_name": "HTMLStyleModel",
      "state": {
       "description_width": "",
       "font_size": null,
       "text_color": null
      }
     },
     "485460e1d28a41c58597a929970937fd": {
      "model_module": "@jupyter-widgets/controls",
      "model_module_version": "2.0.0",
      "model_name": "HBoxModel",
      "state": {
       "children": [
        "IPY_MODEL_553f52fb172443069ec4dad15e74ce4c",
        "IPY_MODEL_ca8d4a122c614def98d31dfb23dbd3d9",
        "IPY_MODEL_847d5036aac2472eaa1def7777f69a59"
       ],
       "layout": "IPY_MODEL_ff4ea93adfcd474b9e587b24ed6d7795"
      }
     },
     "4b32ddd4183344429db03b5b530bb695": {
      "model_module": "@jupyter-widgets/controls",
      "model_module_version": "2.0.0",
      "model_name": "HBoxModel",
      "state": {
       "children": [
        "IPY_MODEL_339e0f5f84eb49b0a58a6f7b20b7b758",
        "IPY_MODEL_89dbb2bd74444053b71b5b06d5711868",
        "IPY_MODEL_58b11aee2eaf4697b93170d5742b55fc"
       ],
       "layout": "IPY_MODEL_35cf7429df6c4d41b4ac545dfb70ff78"
      }
     },
     "4ce075a6280448679ef1602d2a85a477": {
      "model_module": "@jupyter-widgets/base",
      "model_module_version": "2.0.0",
      "model_name": "LayoutModel",
      "state": {}
     },
     "52e3fe7a9c8e49579b65452b01f2ba20": {
      "model_module": "@jupyter-widgets/base",
      "model_module_version": "2.0.0",
      "model_name": "LayoutModel",
      "state": {}
     },
     "543977e741c7453f922b6e4ec712b7d2": {
      "model_module": "@jupyter-widgets/controls",
      "model_module_version": "2.0.0",
      "model_name": "ProgressStyleModel",
      "state": {
       "description_width": ""
      }
     },
     "553f52fb172443069ec4dad15e74ce4c": {
      "model_module": "@jupyter-widgets/controls",
      "model_module_version": "2.0.0",
      "model_name": "HTMLModel",
      "state": {
       "layout": "IPY_MODEL_5866729f8bc94d0b965d08c0a5484dd7",
       "style": "IPY_MODEL_77d10d3e7d514bfe8e77d16dc72f210e",
       "value": "vocab.json: "
      }
     },
     "57eada3af9fa4f6ba67d86b96720725e": {
      "model_module": "@jupyter-widgets/controls",
      "model_module_version": "2.0.0",
      "model_name": "HTMLModel",
      "state": {
       "layout": "IPY_MODEL_def37463dcd94313baf187b92bb3b86c",
       "style": "IPY_MODEL_7df219f1d61d462daebebaddb899562c",
       "value": " 7.34k/? [00:00&lt;00:00, 666kB/s]"
      }
     },
     "5866729f8bc94d0b965d08c0a5484dd7": {
      "model_module": "@jupyter-widgets/base",
      "model_module_version": "2.0.0",
      "model_name": "LayoutModel",
      "state": {}
     },
     "58b11aee2eaf4697b93170d5742b55fc": {
      "model_module": "@jupyter-widgets/controls",
      "model_module_version": "2.0.0",
      "model_name": "HTMLModel",
      "state": {
       "layout": "IPY_MODEL_9e928ee88ad645539bf71eb9beaa8636",
       "style": "IPY_MODEL_5ec20ed89e8f4c7ab4691f7a0e9ad217",
       "value": " 2/2 [03:46&lt;00:00, 226.45s/it]"
      }
     },
     "5905826d6665455295439375537b8cad": {
      "model_module": "@jupyter-widgets/controls",
      "model_module_version": "2.0.0",
      "model_name": "HTMLStyleModel",
      "state": {
       "description_width": "",
       "font_size": null,
       "text_color": null
      }
     },
     "596bb9df187c4887bdd981e96730367e": {
      "model_module": "@jupyter-widgets/base",
      "model_module_version": "2.0.0",
      "model_name": "LayoutModel",
      "state": {}
     },
     "5c6701a5fb9c42edacf9d4e2915ef2ad": {
      "model_module": "@jupyter-widgets/controls",
      "model_module_version": "2.0.0",
      "model_name": "ProgressStyleModel",
      "state": {
       "description_width": ""
      }
     },
     "5ca0407626c74427bdbaee9eb164cdc0": {
      "model_module": "@jupyter-widgets/controls",
      "model_module_version": "2.0.0",
      "model_name": "HBoxModel",
      "state": {
       "children": [
        "IPY_MODEL_8b23fd348cfc473c8633fb57082bfa05",
        "IPY_MODEL_b30687dbdefe42eb84ee801233b00bc8",
        "IPY_MODEL_ff1d5c83b6c74fb9b990c1df7df0288c"
       ],
       "layout": "IPY_MODEL_86224625561f441592cd258dd7d1b1ad"
      }
     },
     "5d11c16723dd4033b8a8adf943ef5218": {
      "model_module": "@jupyter-widgets/controls",
      "model_module_version": "2.0.0",
      "model_name": "ProgressStyleModel",
      "state": {
       "description_width": ""
      }
     },
     "5ec20ed89e8f4c7ab4691f7a0e9ad217": {
      "model_module": "@jupyter-widgets/controls",
      "model_module_version": "2.0.0",
      "model_name": "HTMLStyleModel",
      "state": {
       "description_width": "",
       "font_size": null,
       "text_color": null
      }
     },
     "648ba8b6f185420e8803b4c4f421c10a": {
      "model_module": "@jupyter-widgets/base",
      "model_module_version": "2.0.0",
      "model_name": "LayoutModel",
      "state": {}
     },
     "64ea93d298274cea89b9a7ad211ac860": {
      "model_module": "@jupyter-widgets/controls",
      "model_module_version": "2.0.0",
      "model_name": "HTMLModel",
      "state": {
       "layout": "IPY_MODEL_648ba8b6f185420e8803b4c4f421c10a",
       "style": "IPY_MODEL_5905826d6665455295439375537b8cad",
       "value": "added_tokens.json: "
      }
     },
     "652ff56d60db4c46bf079bdc1a0bd8e6": {
      "model_module": "@jupyter-widgets/base",
      "model_module_version": "2.0.0",
      "model_name": "LayoutModel",
      "state": {}
     },
     "65ed92da654c430995e5a06913f4485d": {
      "model_module": "@jupyter-widgets/base",
      "model_module_version": "2.0.0",
      "model_name": "LayoutModel",
      "state": {}
     },
     "693a7be7791a48298d1b4f69b9c4ad1d": {
      "model_module": "@jupyter-widgets/base",
      "model_module_version": "2.0.0",
      "model_name": "LayoutModel",
      "state": {}
     },
     "699b13bfd4c6445fa2cc9d1b7a3b4d60": {
      "model_module": "@jupyter-widgets/controls",
      "model_module_version": "2.0.0",
      "model_name": "HTMLStyleModel",
      "state": {
       "description_width": "",
       "font_size": null,
       "text_color": null
      }
     },
     "6afb9631573442f980dfda9300286ee9": {
      "model_module": "@jupyter-widgets/controls",
      "model_module_version": "2.0.0",
      "model_name": "ProgressStyleModel",
      "state": {
       "description_width": ""
      }
     },
     "6b1f2df92a5b4e7786e24fb4b15ba7f7": {
      "model_module": "@jupyter-widgets/base",
      "model_module_version": "2.0.0",
      "model_name": "LayoutModel",
      "state": {}
     },
     "6d06869d593a4440a2263d6e62dbd137": {
      "model_module": "@jupyter-widgets/controls",
      "model_module_version": "2.0.0",
      "model_name": "ProgressStyleModel",
      "state": {
       "description_width": ""
      }
     },
     "6d636f9006fa41578b5058074e6f6795": {
      "model_module": "@jupyter-widgets/base",
      "model_module_version": "2.0.0",
      "model_name": "LayoutModel",
      "state": {}
     },
     "6d902008b0454bb48ea8bbdfae44f621": {
      "model_module": "@jupyter-widgets/controls",
      "model_module_version": "2.0.0",
      "model_name": "FloatProgressModel",
      "state": {
       "bar_style": "success",
       "layout": "IPY_MODEL_1db24b40f250454694030a10d9c3b9e6",
       "max": 1,
       "style": "IPY_MODEL_ab9ee674dd4a4ebebb9a86385d3e0d8a",
       "value": 1
      }
     },
     "6f6020f5d5804312af1b355b2b0ddd4c": {
      "model_module": "@jupyter-widgets/controls",
      "model_module_version": "2.0.0",
      "model_name": "HTMLStyleModel",
      "state": {
       "description_width": "",
       "font_size": null,
       "text_color": null
      }
     },
     "6fc8ed5a37154264927b6d4e5feeecdc": {
      "model_module": "@jupyter-widgets/base",
      "model_module_version": "2.0.0",
      "model_name": "LayoutModel",
      "state": {}
     },
     "72618205b9cc4a5c862cdfe8d5c08c7d": {
      "model_module": "@jupyter-widgets/controls",
      "model_module_version": "2.0.0",
      "model_name": "HTMLStyleModel",
      "state": {
       "description_width": "",
       "font_size": null,
       "text_color": null
      }
     },
     "73066ba974324bbdbc807a9577823f23": {
      "model_module": "@jupyter-widgets/controls",
      "model_module_version": "2.0.0",
      "model_name": "HTMLModel",
      "state": {
       "layout": "IPY_MODEL_f463da1f39d84d1eb94c33eaabbfaaa0",
       "style": "IPY_MODEL_09e48094adce41d8bc0c434a00112f72",
       "value": "special_tokens_map.json: 100%"
      }
     },
     "747c23d7644e411eb196c2f5547491f1": {
      "model_module": "@jupyter-widgets/controls",
      "model_module_version": "2.0.0",
      "model_name": "HTMLModel",
      "state": {
       "layout": "IPY_MODEL_ccca48883be9442499e9e5cb999e2f29",
       "style": "IPY_MODEL_7e4e66d56cf442358b24cdbd041896c5",
       "value": "model.safetensors.index.json: "
      }
     },
     "77d10d3e7d514bfe8e77d16dc72f210e": {
      "model_module": "@jupyter-widgets/controls",
      "model_module_version": "2.0.0",
      "model_name": "HTMLStyleModel",
      "state": {
       "description_width": "",
       "font_size": null,
       "text_color": null
      }
     },
     "78b27345c5e84155911378b08f0f899b": {
      "model_module": "@jupyter-widgets/base",
      "model_module_version": "2.0.0",
      "model_name": "LayoutModel",
      "state": {}
     },
     "7a4cfadc94224e809844291afbb26aea": {
      "model_module": "@jupyter-widgets/base",
      "model_module_version": "2.0.0",
      "model_name": "LayoutModel",
      "state": {}
     },
     "7c0bca592a454989b15c444f3181d7e6": {
      "model_module": "@jupyter-widgets/base",
      "model_module_version": "2.0.0",
      "model_name": "LayoutModel",
      "state": {}
     },
     "7df219f1d61d462daebebaddb899562c": {
      "model_module": "@jupyter-widgets/controls",
      "model_module_version": "2.0.0",
      "model_name": "HTMLStyleModel",
      "state": {
       "description_width": "",
       "font_size": null,
       "text_color": null
      }
     },
     "7e4e66d56cf442358b24cdbd041896c5": {
      "model_module": "@jupyter-widgets/controls",
      "model_module_version": "2.0.0",
      "model_name": "HTMLStyleModel",
      "state": {
       "description_width": "",
       "font_size": null,
       "text_color": null
      }
     },
     "80da5abe376144b38aa61b40a7f2d234": {
      "model_module": "@jupyter-widgets/base",
      "model_module_version": "2.0.0",
      "model_name": "LayoutModel",
      "state": {}
     },
     "831ce091385a4e26b8fbe81c076dfae1": {
      "model_module": "@jupyter-widgets/base",
      "model_module_version": "2.0.0",
      "model_name": "LayoutModel",
      "state": {
       "width": "20px"
      }
     },
     "847d5036aac2472eaa1def7777f69a59": {
      "model_module": "@jupyter-widgets/controls",
      "model_module_version": "2.0.0",
      "model_name": "HTMLModel",
      "state": {
       "layout": "IPY_MODEL_d5d85ed38998414784db3943f7a95a61",
       "style": "IPY_MODEL_d199743924ef44bf91e9be80155d2567",
       "value": " 798k/? [00:00&lt;00:00, 16.8MB/s]"
      }
     },
     "86224625561f441592cd258dd7d1b1ad": {
      "model_module": "@jupyter-widgets/base",
      "model_module_version": "2.0.0",
      "model_name": "LayoutModel",
      "state": {}
     },
     "89dbb2bd74444053b71b5b06d5711868": {
      "model_module": "@jupyter-widgets/controls",
      "model_module_version": "2.0.0",
      "model_name": "FloatProgressModel",
      "state": {
       "bar_style": "success",
       "layout": "IPY_MODEL_e331e86ff40e41d9962358bb4abcecd9",
       "max": 2,
       "style": "IPY_MODEL_5c6701a5fb9c42edacf9d4e2915ef2ad",
       "value": 2
      }
     },
     "8b23fd348cfc473c8633fb57082bfa05": {
      "model_module": "@jupyter-widgets/controls",
      "model_module_version": "2.0.0",
      "model_name": "HTMLModel",
      "state": {
       "layout": "IPY_MODEL_6fc8ed5a37154264927b6d4e5feeecdc",
       "style": "IPY_MODEL_983dcf570f264d8ca2a48bf16d8d9c34",
       "value": "model-00002-of-00002.safetensors: 100%"
      }
     },
     "8b741fbc677b4c9fa7fb2af29b232edc": {
      "model_module": "@jupyter-widgets/controls",
      "model_module_version": "2.0.0",
      "model_name": "FloatProgressModel",
      "state": {
       "bar_style": "success",
       "layout": "IPY_MODEL_c98257b579dd4986b359a1b4257f6517",
       "max": 1,
       "style": "IPY_MODEL_c518836efaab4d17af708fb522f85a41",
       "value": 1
      }
     },
     "8ce8c137a5aa49888f43a3ae8b100fd1": {
      "model_module": "@jupyter-widgets/controls",
      "model_module_version": "2.0.0",
      "model_name": "HBoxModel",
      "state": {
       "children": [
        "IPY_MODEL_2607af80e4f64630bb9fb0f3cecdf1cb",
        "IPY_MODEL_e89b1084d4404401be41f317e80a3e39",
        "IPY_MODEL_9e7e806c44bb4ee2994547b8a4b05ec0"
       ],
       "layout": "IPY_MODEL_78b27345c5e84155911378b08f0f899b"
      }
     },
     "8ef8530f93af43129139fcfecf96914b": {
      "model_module": "@jupyter-widgets/base",
      "model_module_version": "2.0.0",
      "model_name": "LayoutModel",
      "state": {}
     },
     "8f8c8011a27e4f289f14017b6c54fa89": {
      "model_module": "@jupyter-widgets/controls",
      "model_module_version": "2.0.0",
      "model_name": "FloatProgressModel",
      "state": {
       "bar_style": "success",
       "layout": "IPY_MODEL_27613c6f295b4c4c82dd746322905c26",
       "max": 1,
       "style": "IPY_MODEL_6d06869d593a4440a2263d6e62dbd137",
       "value": 1
      }
     },
     "8fd9918eb763481bb67df629ef04fe48": {
      "model_module": "@jupyter-widgets/base",
      "model_module_version": "2.0.0",
      "model_name": "LayoutModel",
      "state": {}
     },
     "920fcdbf615047638ddcc9b2a527fa41": {
      "model_module": "@jupyter-widgets/controls",
      "model_module_version": "2.0.0",
      "model_name": "HBoxModel",
      "state": {
       "children": [
        "IPY_MODEL_64ea93d298274cea89b9a7ad211ac860",
        "IPY_MODEL_def236e3f0084f1db445edeb0ee558ad",
        "IPY_MODEL_4032623b0ef44c63a81fcc9609ed1c44"
       ],
       "layout": "IPY_MODEL_0dfd920831bc408180f182eef4606e2a"
      }
     },
     "983dcf570f264d8ca2a48bf16d8d9c34": {
      "model_module": "@jupyter-widgets/controls",
      "model_module_version": "2.0.0",
      "model_name": "HTMLStyleModel",
      "state": {
       "description_width": "",
       "font_size": null,
       "text_color": null
      }
     },
     "9b785ec15064492d90e08a5f9858ed35": {
      "model_module": "@jupyter-widgets/controls",
      "model_module_version": "2.0.0",
      "model_name": "HTMLModel",
      "state": {
       "layout": "IPY_MODEL_a4c0ce2c72ce482f9ac2e91e7f8823b9",
       "style": "IPY_MODEL_cf60ccc0416a4e1c8166b3938d5e695b",
       "value": "merges.txt: "
      }
     },
     "9b84298cd37c49a58e402d3c84c6c8fd": {
      "model_module": "@jupyter-widgets/controls",
      "model_module_version": "2.0.0",
      "model_name": "ProgressStyleModel",
      "state": {
       "description_width": ""
      }
     },
     "9cfb548e44164685b6da577c5c37ba57": {
      "model_module": "@jupyter-widgets/controls",
      "model_module_version": "2.0.0",
      "model_name": "HTMLModel",
      "state": {
       "layout": "IPY_MODEL_693a7be7791a48298d1b4f69b9c4ad1d",
       "style": "IPY_MODEL_be30609dcab54078b1ced69f9879241e",
       "value": "model-00001-of-00002.safetensors: 100%"
      }
     },
     "9e7e806c44bb4ee2994547b8a4b05ec0": {
      "model_module": "@jupyter-widgets/controls",
      "model_module_version": "2.0.0",
      "model_name": "HTMLModel",
      "state": {
       "layout": "IPY_MODEL_d8e6831ce7bb4407aceda1a3d0a6b647",
       "style": "IPY_MODEL_01b0954c1796480e85ab68caf264db88",
       "value": " 2/2 [00:07&lt;00:00,  3.52s/it]"
      }
     },
     "9e928ee88ad645539bf71eb9beaa8636": {
      "model_module": "@jupyter-widgets/base",
      "model_module_version": "2.0.0",
      "model_name": "LayoutModel",
      "state": {}
     },
     "a4c0ce2c72ce482f9ac2e91e7f8823b9": {
      "model_module": "@jupyter-widgets/base",
      "model_module_version": "2.0.0",
      "model_name": "LayoutModel",
      "state": {}
     },
     "a6984cde0ffc4a09b5127f19b53736d2": {
      "model_module": "@jupyter-widgets/base",
      "model_module_version": "2.0.0",
      "model_name": "LayoutModel",
      "state": {}
     },
     "aa26c9daba6a46e282cfce96de429742": {
      "model_module": "@jupyter-widgets/controls",
      "model_module_version": "2.0.0",
      "model_name": "HBoxModel",
      "state": {
       "children": [
        "IPY_MODEL_3e8bbbff35aa4266b5453f3b176dc50d",
        "IPY_MODEL_8f8c8011a27e4f289f14017b6c54fa89",
        "IPY_MODEL_57eada3af9fa4f6ba67d86b96720725e"
       ],
       "layout": "IPY_MODEL_aaae9dd79f064f96bd135c58a75aeac7"
      }
     },
     "aaae9dd79f064f96bd135c58a75aeac7": {
      "model_module": "@jupyter-widgets/base",
      "model_module_version": "2.0.0",
      "model_name": "LayoutModel",
      "state": {}
     },
     "ab90ac8df99d463ea71572a037a407da": {
      "model_module": "@jupyter-widgets/base",
      "model_module_version": "2.0.0",
      "model_name": "LayoutModel",
      "state": {}
     },
     "ab9ee674dd4a4ebebb9a86385d3e0d8a": {
      "model_module": "@jupyter-widgets/controls",
      "model_module_version": "2.0.0",
      "model_name": "ProgressStyleModel",
      "state": {
       "description_width": ""
      }
     },
     "ad12656e113346dd97ed20234e8714b0": {
      "model_module": "@jupyter-widgets/base",
      "model_module_version": "2.0.0",
      "model_name": "LayoutModel",
      "state": {}
     },
     "ad6b553de0224a86bdf96b271b47ad00": {
      "model_module": "@jupyter-widgets/base",
      "model_module_version": "2.0.0",
      "model_name": "LayoutModel",
      "state": {}
     },
     "b30687dbdefe42eb84ee801233b00bc8": {
      "model_module": "@jupyter-widgets/controls",
      "model_module_version": "2.0.0",
      "model_name": "FloatProgressModel",
      "state": {
       "bar_style": "success",
       "layout": "IPY_MODEL_596bb9df187c4887bdd981e96730367e",
       "max": 563832976,
       "style": "IPY_MODEL_34be16b234e1403db7edf891d9c931a6",
       "value": 563832976
      }
     },
     "b7633c02a7004925a2bdf3d6b96dfd70": {
      "model_module": "@jupyter-widgets/base",
      "model_module_version": "2.0.0",
      "model_name": "LayoutModel",
      "state": {
       "width": "20px"
      }
     },
     "bb813712bf144a8eaab9ffba222cc423": {
      "model_module": "@jupyter-widgets/controls",
      "model_module_version": "2.0.0",
      "model_name": "HTMLStyleModel",
      "state": {
       "description_width": "",
       "font_size": null,
       "text_color": null
      }
     },
     "bbd3f32f50b3489fb8dce7d9cbce627e": {
      "model_module": "@jupyter-widgets/controls",
      "model_module_version": "2.0.0",
      "model_name": "ProgressStyleModel",
      "state": {
       "description_width": ""
      }
     },
     "be30609dcab54078b1ced69f9879241e": {
      "model_module": "@jupyter-widgets/controls",
      "model_module_version": "2.0.0",
      "model_name": "HTMLStyleModel",
      "state": {
       "description_width": "",
       "font_size": null,
       "text_color": null
      }
     },
     "c0cabd1f35bf489a97bdfa8716c2f584": {
      "model_module": "@jupyter-widgets/controls",
      "model_module_version": "2.0.0",
      "model_name": "FloatProgressModel",
      "state": {
       "bar_style": "success",
       "layout": "IPY_MODEL_b7633c02a7004925a2bdf3d6b96dfd70",
       "max": 1,
       "style": "IPY_MODEL_5d11c16723dd4033b8a8adf943ef5218",
       "value": 1
      }
     },
     "c518836efaab4d17af708fb522f85a41": {
      "model_module": "@jupyter-widgets/controls",
      "model_module_version": "2.0.0",
      "model_name": "ProgressStyleModel",
      "state": {
       "description_width": ""
      }
     },
     "c98257b579dd4986b359a1b4257f6517": {
      "model_module": "@jupyter-widgets/base",
      "model_module_version": "2.0.0",
      "model_name": "LayoutModel",
      "state": {
       "width": "20px"
      }
     },
     "c9c7c851f08a42d285cd63d05a716112": {
      "model_module": "@jupyter-widgets/base",
      "model_module_version": "2.0.0",
      "model_name": "LayoutModel",
      "state": {}
     },
     "ca8d4a122c614def98d31dfb23dbd3d9": {
      "model_module": "@jupyter-widgets/controls",
      "model_module_version": "2.0.0",
      "model_name": "FloatProgressModel",
      "state": {
       "bar_style": "success",
       "layout": "IPY_MODEL_26d91ab71a934fafa1ba3592946a5aaa",
       "max": 1,
       "style": "IPY_MODEL_df5d5e109afa4133b12e22097acb14bd",
       "value": 1
      }
     },
     "cb597f86a7744b12a4739ac28f83bc46": {
      "model_module": "@jupyter-widgets/base",
      "model_module_version": "2.0.0",
      "model_name": "LayoutModel",
      "state": {}
     },
     "cb6bf65361d040db965bbd521332d064": {
      "model_module": "@jupyter-widgets/controls",
      "model_module_version": "2.0.0",
      "model_name": "HTMLModel",
      "state": {
       "layout": "IPY_MODEL_cb597f86a7744b12a4739ac28f83bc46",
       "style": "IPY_MODEL_274c2a6074d241f1934ba34121e34bec",
       "value": "tokenizer.json: "
      }
     },
     "ccca48883be9442499e9e5cb999e2f29": {
      "model_module": "@jupyter-widgets/base",
      "model_module_version": "2.0.0",
      "model_name": "LayoutModel",
      "state": {}
     },
     "cf60ccc0416a4e1c8166b3938d5e695b": {
      "model_module": "@jupyter-widgets/controls",
      "model_module_version": "2.0.0",
      "model_name": "HTMLStyleModel",
      "state": {
       "description_width": "",
       "font_size": null,
       "text_color": null
      }
     },
     "d199743924ef44bf91e9be80155d2567": {
      "model_module": "@jupyter-widgets/controls",
      "model_module_version": "2.0.0",
      "model_name": "HTMLStyleModel",
      "state": {
       "description_width": "",
       "font_size": null,
       "text_color": null
      }
     },
     "d4fe5388bc314c88a2919c1a49a76216": {
      "model_module": "@jupyter-widgets/base",
      "model_module_version": "2.0.0",
      "model_name": "LayoutModel",
      "state": {}
     },
     "d5d85ed38998414784db3943f7a95a61": {
      "model_module": "@jupyter-widgets/base",
      "model_module_version": "2.0.0",
      "model_name": "LayoutModel",
      "state": {}
     },
     "d74ea72da7414735b6f81c48b1079e9e": {
      "model_module": "@jupyter-widgets/base",
      "model_module_version": "2.0.0",
      "model_name": "LayoutModel",
      "state": {}
     },
     "d773e9c28e5a414caf0555d7d6b21748": {
      "model_module": "@jupyter-widgets/controls",
      "model_module_version": "2.0.0",
      "model_name": "HTMLModel",
      "state": {
       "layout": "IPY_MODEL_8fd9918eb763481bb67df629ef04fe48",
       "style": "IPY_MODEL_6f6020f5d5804312af1b355b2b0ddd4c",
       "value": " 5.00G/5.00G [03:43&lt;00:00, 24.9MB/s]"
      }
     },
     "d8e6831ce7bb4407aceda1a3d0a6b647": {
      "model_module": "@jupyter-widgets/base",
      "model_module_version": "2.0.0",
      "model_name": "LayoutModel",
      "state": {}
     },
     "dcdbb13ed56347b2a1e376551480aa1d": {
      "model_module": "@jupyter-widgets/controls",
      "model_module_version": "2.0.0",
      "model_name": "FloatProgressModel",
      "state": {
       "bar_style": "success",
       "layout": "IPY_MODEL_d74ea72da7414735b6f81c48b1079e9e",
       "max": 124,
       "style": "IPY_MODEL_bbd3f32f50b3489fb8dce7d9cbce627e",
       "value": 124
      }
     },
     "de75a8e67d2c4502a4ecef3a502b5ee3": {
      "model_module": "@jupyter-widgets/base",
      "model_module_version": "2.0.0",
      "model_name": "LayoutModel",
      "state": {}
     },
     "def236e3f0084f1db445edeb0ee558ad": {
      "model_module": "@jupyter-widgets/controls",
      "model_module_version": "2.0.0",
      "model_name": "FloatProgressModel",
      "state": {
       "bar_style": "success",
       "layout": "IPY_MODEL_831ce091385a4e26b8fbe81c076dfae1",
       "max": 1,
       "style": "IPY_MODEL_6afb9631573442f980dfda9300286ee9",
       "value": 1
      }
     },
     "def37463dcd94313baf187b92bb3b86c": {
      "model_module": "@jupyter-widgets/base",
      "model_module_version": "2.0.0",
      "model_name": "LayoutModel",
      "state": {}
     },
     "df5d5e109afa4133b12e22097acb14bd": {
      "model_module": "@jupyter-widgets/controls",
      "model_module_version": "2.0.0",
      "model_name": "ProgressStyleModel",
      "state": {
       "description_width": ""
      }
     },
     "e331e86ff40e41d9962358bb4abcecd9": {
      "model_module": "@jupyter-widgets/base",
      "model_module_version": "2.0.0",
      "model_name": "LayoutModel",
      "state": {}
     },
     "e73c51bea5d84639aeb81681245242d6": {
      "model_module": "@jupyter-widgets/controls",
      "model_module_version": "2.0.0",
      "model_name": "HTMLModel",
      "state": {
       "layout": "IPY_MODEL_fb4b165de7044281b040e3d986511f33",
       "style": "IPY_MODEL_f6d91193a4fa44bb859a1dcd8026acf7",
       "value": " 35.7k/? [00:00&lt;00:00, 1.12MB/s]"
      }
     },
     "e89b1084d4404401be41f317e80a3e39": {
      "model_module": "@jupyter-widgets/controls",
      "model_module_version": "2.0.0",
      "model_name": "FloatProgressModel",
      "state": {
       "bar_style": "success",
       "layout": "IPY_MODEL_3205677a82034f85b96d745f322962c3",
       "max": 2,
       "style": "IPY_MODEL_543977e741c7453f922b6e4ec712b7d2",
       "value": 2
      }
     },
     "eace7c0709f9467a9936b874e86ae454": {
      "model_module": "@jupyter-widgets/controls",
      "model_module_version": "2.0.0",
      "model_name": "HBoxModel",
      "state": {
       "children": [
        "IPY_MODEL_9b785ec15064492d90e08a5f9858ed35",
        "IPY_MODEL_6d902008b0454bb48ea8bbdfae44f621",
        "IPY_MODEL_38d9f998073946d6a03cab439854cb5a"
       ],
       "layout": "IPY_MODEL_f8aa6f24eb0d4ef2bc66f461d95b002c"
      }
     },
     "ec3a23ab11e64a058886c9d934814120": {
      "model_module": "@jupyter-widgets/controls",
      "model_module_version": "2.0.0",
      "model_name": "HTMLModel",
      "state": {
       "layout": "IPY_MODEL_6b1f2df92a5b4e7786e24fb4b15ba7f7",
       "style": "IPY_MODEL_3148c496a07d45f1aae0907bebf53e8e",
       "value": "generation_config.json: 100%"
      }
     },
     "ee665bacc21b4af69be1d1eaf9534df7": {
      "model_module": "@jupyter-widgets/controls",
      "model_module_version": "2.0.0",
      "model_name": "HTMLModel",
      "state": {
       "layout": "IPY_MODEL_652ff56d60db4c46bf079bdc1a0bd8e6",
       "style": "IPY_MODEL_2f80640e98924d3db1992bcdf2bd2722",
       "value": " 124/124 [00:00&lt;00:00, 8.66kB/s]"
      }
     },
     "f463da1f39d84d1eb94c33eaabbfaaa0": {
      "model_module": "@jupyter-widgets/base",
      "model_module_version": "2.0.0",
      "model_name": "LayoutModel",
      "state": {}
     },
     "f6d91193a4fa44bb859a1dcd8026acf7": {
      "model_module": "@jupyter-widgets/controls",
      "model_module_version": "2.0.0",
      "model_name": "HTMLStyleModel",
      "state": {
       "description_width": "",
       "font_size": null,
       "text_color": null
      }
     },
     "f7b41662c6e244ec8574b288b8ca1163": {
      "model_module": "@jupyter-widgets/controls",
      "model_module_version": "2.0.0",
      "model_name": "HTMLStyleModel",
      "state": {
       "description_width": "",
       "font_size": null,
       "text_color": null
      }
     },
     "f8aa6f24eb0d4ef2bc66f461d95b002c": {
      "model_module": "@jupyter-widgets/base",
      "model_module_version": "2.0.0",
      "model_name": "LayoutModel",
      "state": {}
     },
     "fb4b165de7044281b040e3d986511f33": {
      "model_module": "@jupyter-widgets/base",
      "model_module_version": "2.0.0",
      "model_name": "LayoutModel",
      "state": {}
     },
     "fc8dc9b93efc4a56bc1a89bc470b7466": {
      "model_module": "@jupyter-widgets/controls",
      "model_module_version": "2.0.0",
      "model_name": "HTMLStyleModel",
      "state": {
       "description_width": "",
       "font_size": null,
       "text_color": null
      }
     },
     "ff1d5c83b6c74fb9b990c1df7df0288c": {
      "model_module": "@jupyter-widgets/controls",
      "model_module_version": "2.0.0",
      "model_name": "HTMLModel",
      "state": {
       "layout": "IPY_MODEL_7c0bca592a454989b15c444f3181d7e6",
       "style": "IPY_MODEL_45fa7519d7e744c1adbb4c439cc94739",
       "value": " 564M/564M [00:46&lt;00:00, 9.72MB/s]"
      }
     },
     "ff4ea93adfcd474b9e587b24ed6d7795": {
      "model_module": "@jupyter-widgets/base",
      "model_module_version": "2.0.0",
      "model_name": "LayoutModel",
      "state": {}
     }
    },
    "version_major": 2,
    "version_minor": 0
   }
  }
 },
 "nbformat": 4,
 "nbformat_minor": 5
}
